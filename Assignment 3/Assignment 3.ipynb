{
 "cells": [
  {
   "cell_type": "code",
   "execution_count": 38,
   "metadata": {},
   "outputs": [],
   "source": [
    "import camb\n",
    "import numpy as np\n",
    "from matplotlib import pyplot as plt\n",
    "import time"
   ]
  },
  {
   "cell_type": "markdown",
   "metadata": {},
   "source": [
    "# Question 1"
   ]
  },
  {
   "cell_type": "markdown",
   "metadata": {},
   "source": [
    "Expanding the expression, we have: $z = a(x^2 + y^2 - 2xx_0 - 2yy_0 + y_0^2 + x_0^2) + z_0$\\\n",
    "With the new constants that can found from the data: \\\n",
    "$c_0 = x^2 + y^2$\\\n",
    "$c_1 = -2x$\\\n",
    "$c_2 = -2y$\\\n",
    "And the new sets of parameters:\\\n",
    "$f_0 = a$\\\n",
    "$f_1 = ax_0$\\\n",
    "$f_2 = ay_0$\\\n",
    "$f_3 = a(x_0^2 + y_0^2) + z_0$\\\n",
    "The new equation becomes: $z = c_0 f_0 + c_1 f_1 + c_2 f_2 + f_3$"
   ]
  },
  {
   "cell_type": "code",
   "execution_count": 39,
   "metadata": {},
   "outputs": [],
   "source": [
    "# Load data\n",
    "data = np.loadtxt('dish_zenith.txt')\n",
    "x = data[:,0]\n",
    "y = data[:,1]\n",
    "z = data[:,2]"
   ]
  },
  {
   "cell_type": "code",
   "execution_count": null,
   "metadata": {},
   "outputs": [],
   "source": []
  },
  {
   "cell_type": "code",
   "execution_count": 40,
   "metadata": {},
   "outputs": [],
   "source": [
    "# Now on to calculating the new constants \n",
    "c0 = x**2 + y**2\n",
    "c1 = -2*x\n",
    "c2 = -2*y"
   ]
  },
  {
   "cell_type": "code",
   "execution_count": 41,
   "metadata": {},
   "outputs": [],
   "source": [
    "# Function\n",
    "func = np.zeros([len(x),4])\n",
    "func[:,0] = c0\n",
    "func[:,1] = c1\n",
    "func[:,2] = c2\n",
    "func[:,3] = 1"
   ]
  },
  {
   "cell_type": "code",
   "execution_count": 42,
   "metadata": {},
   "outputs": [
    {
     "name": "stdout",
     "output_type": "stream",
     "text": [
      "The parameters [f0, f1, f2, f3] =  [ 1.66704455e-04 -2.26799514e-04  9.70577943e-03 -1.51231182e+03]\n",
      "This fit has a chi squared value of 862.8587136102859\n"
     ]
    }
   ],
   "source": [
    "# Linear fit\n",
    "lhs = func.T@func\n",
    "rhs = func.T@z\n",
    "m = np.linalg.inv(lhs)@rhs\n",
    "pred = np.dot(func, m) \n",
    "\n",
    "# Noise of the data is going to be the error of d_pred - d_true\n",
    "sig = np.mean(np.abs(pred - z))\n",
    "chi_sq = np.sum((pred-z)**2 / sig**2)\n",
    "print('The parameters [f0, f1, f2, f3] = ', m)\n",
    "print('This fit has a chi squared value of', chi_sq)"
   ]
  },
  {
   "cell_type": "markdown",
   "metadata": {},
   "source": [
    "Now we create a noise matrix and then go on to find the uncertainty in a (which is x_0)"
   ]
  },
  {
   "cell_type": "code",
   "execution_count": 43,
   "metadata": {},
   "outputs": [],
   "source": [
    "# Noise matrix:\n",
    "N = sig**2 * np.eye(len(x))\n",
    "Ninv = np.eye(len(x)) * (1/sig**2)"
   ]
  },
  {
   "cell_type": "code",
   "execution_count": 44,
   "metadata": {},
   "outputs": [
    {
     "name": "stdout",
     "output_type": "stream",
     "text": [
      "The parameter a: 0.00016670445477401358 , with an error: 4.7870126085757174e-08\n"
     ]
    }
   ],
   "source": [
    "# Find the covariance matrix. Noted that the first parameter f0 is a by definition\n",
    "lhs = func.T@Ninv@func\n",
    "uncertainty = np.sqrt(np.diag(np.linalg.inv(lhs)))\n",
    "print('The parameter a:', m[0], ', with an error:', uncertainty[0])"
   ]
  },
  {
   "cell_type": "markdown",
   "metadata": {},
   "source": [
    "Now we find the focal lenght f from $y = \\frac{x^2}{4f}$ and its error\\\n",
    "We will fit it with the model: $y = \\frac{1}{4} x^2 \\frac{1}{f}$"
   ]
  },
  {
   "cell_type": "code",
   "execution_count": 45,
   "metadata": {},
   "outputs": [],
   "source": [
    "x_sq = np.asarray(x**2)\n",
    "a = 4*y / x_sq"
   ]
  },
  {
   "cell_type": "code",
   "execution_count": null,
   "metadata": {},
   "outputs": [],
   "source": []
  },
  {
   "cell_type": "markdown",
   "metadata": {},
   "source": [
    "# Question 2"
   ]
  },
  {
   "cell_type": "code",
   "execution_count": 46,
   "metadata": {},
   "outputs": [],
   "source": [
    "# This is from the code provided by prof. Sievers\n",
    "def get_spectrum(pars,lmax=2000):\n",
    "    #print('pars are ',pars)\n",
    "    H0=pars[0]\n",
    "    ombh2=pars[1]\n",
    "    omch2=pars[2]\n",
    "    tau=pars[3]\n",
    "    As=pars[4]\n",
    "    ns=pars[5]\n",
    "    pars=camb.CAMBparams()\n",
    "    pars.set_cosmology(H0=H0,ombh2=ombh2,omch2=omch2,mnu=0.06,omk=0,tau=tau)\n",
    "    pars.InitPower.set_params(As=As,ns=ns,r=0)\n",
    "    pars.set_for_lmax(lmax,lens_potential_accuracy=0)\n",
    "    results=camb.get_results(pars)\n",
    "    powers=results.get_cmb_power_spectra(pars,CMB_unit='muK')\n",
    "    cmb=powers['total']\n",
    "    tt=cmb[:,0]    #you could return the full power spectrum here if you wanted to do say EE\n",
    "    return tt"
   ]
  },
  {
   "cell_type": "code",
   "execution_count": 47,
   "metadata": {},
   "outputs": [
    {
     "data": {
      "image/png": "[encoded data removed]",
      "text/plain": [
       "<Figure size 432x288 with 1 Axes>"
      ]
     },
     "metadata": {
      "needs_background": "light"
     },
     "output_type": "display_data"
    }
   ],
   "source": [
    "plt.ion()\n",
    "\n",
    "pars = np.asarray([65,0.02,0.1,0.05,2e-9,0.96])\n",
    "\n",
    "wmap=np.loadtxt('wmap_tt_spectrum_9yr_v5.txt')\n",
    "\n",
    "plt.clf();\n",
    "#plt.errorbar(wmap[:,0],wmap[:,1],wmap[:,2],fmt='*')\n",
    "plt.plot(wmap[:,0],wmap[:,1],'.')\n",
    "\n",
    "cmb=get_spectrum(pars)\n",
    "plt.plot(cmb)\n",
    "plt.show()"
   ]
  },
  {
   "cell_type": "code",
   "execution_count": 48,
   "metadata": {},
   "outputs": [],
   "source": [
    "# Only interested in the data\n",
    "def get_spectrum_2(pars,lmax=2000):\n",
    "    #print('pars are ',pars)\n",
    "    H0=pars[0]\n",
    "    ombh2=pars[1]\n",
    "    omch2=pars[2]\n",
    "    tau=pars[3]\n",
    "    As=pars[4]\n",
    "    ns=pars[5]\n",
    "    pars=camb.CAMBparams()\n",
    "    pars.set_cosmology(H0=H0,ombh2=ombh2,omch2=omch2,mnu=0.06,omk=0,tau=tau)\n",
    "    pars.InitPower.set_params(As=As,ns=ns,r=0)\n",
    "    pars.set_for_lmax(lmax,lens_potential_accuracy=0)\n",
    "    results=camb.get_results(pars)\n",
    "    powers=results.get_cmb_power_spectra(pars,CMB_unit='muK')\n",
    "    cmb=powers['total']\n",
    "    tt=cmb[:,0]    #you could return the full power spectrum here if you wanted to do say EE\n",
    "    tt=tt[wmap[:,0].astype(int)] #Only take out the part that corresponds with our data\n",
    "    return tt"
   ]
  },
  {
   "cell_type": "code",
   "execution_count": 49,
   "metadata": {},
   "outputs": [
    {
     "name": "stdout",
     "output_type": "stream",
     "text": [
      "With uncorrelated error, we have chi squared value at: 1588.2376532931526\n",
      "This agrees with the given value in the assignment\n"
     ]
    }
   ],
   "source": [
    "# Perform a fit to determine Chi Squared value\n",
    "y_pred = get_spectrum_2(pars)\n",
    "y = wmap[:,1]\n",
    "sig = wmap[:,2]\n",
    "numerator = (y_pred-y)**2\n",
    "denominator = sig**2\n",
    "Chi_sq = np.sum(numerator / denominator)\n",
    "print('With uncorrelated error, we have chi squared value at:', Chi_sq)\n",
    "print('This agrees with the given value in the assignment')"
   ]
  },
  {
   "cell_type": "markdown",
   "metadata": {},
   "source": [
    "# Question 3"
   ]
  },
  {
   "cell_type": "code",
   "execution_count": 50,
   "metadata": {},
   "outputs": [],
   "source": [
    "# Creating the N matrix from error sigma\n",
    "N=np.eye(len(y))*sig**2\n",
    "Ninv=np.eye(len(y))/sig**2"
   ]
  },
  {
   "cell_type": "code",
   "execution_count": 51,
   "metadata": {},
   "outputs": [],
   "source": [
    "# Creating the A matrix. I don't know how to make it so that it skip the 3rd index so I do it case by case like this\n",
    "def dA_1(pars, y, x): \n",
    "    dA = np.zeros([5,len(y)])\n",
    "    dA[0,:] = (get_spectrum_2(pars + [pars[0]/x,0,0,0,0,0]) - y)/(pars[0]/x)\n",
    "    dA[1,:] = (get_spectrum_2(pars + [0,pars[1]/x,0,0,0,0]) - y)/(pars[1]/x)\n",
    "    dA[2,:] = (get_spectrum_2(pars + [0,0,pars[2]/x,0,0,0]) - y)/(pars[2]/x)\n",
    "    dA[3,:] = (get_spectrum_2(pars + [0,0,0,0,(pars[4]/x),0]) - y)/(pars[4]/x)\n",
    "    dA[4,:] = (get_spectrum_2(pars + [0,0,0,0,0,(pars[5]/x)]) - y)/(pars[5]/x)\n",
    "    return dA.transpose()"
   ]
  },
  {
   "cell_type": "code",
   "execution_count": 52,
   "metadata": {},
   "outputs": [],
   "source": [
    "# Now on to the Newton's method with the minimizer. The for loop is adapted from the codes in class with some modification\n",
    "\n",
    "max_iteration = 10;\n",
    "lam = 1 # Start with pure Newton method\n",
    "tol = 0.2 \n",
    "\n",
    "\n",
    "Chi_sq_newt = np.zeros(max_iteration+1) # To keep track of all the Chi Squared over all the steps\n",
    "Chi_sq_newt[0] = Chi_sq #The first one is the value of Chi Square we have calculated before\n",
    "y_pred_newt = y_pred;\n",
    "\n",
    "\n",
    "# The for Loop \n",
    "for iter in range(1, max_iteration): # we start from one because 0 is when we calculate chi in question 2\n",
    "    derivs = dA_1(pars, y_pred_newt, 100)\n",
    "    resid = y - y_pred_newt #data minus current model\n",
    "    rhs = derivs.T@(Ninv@resid)\n",
    "    lhs = derivs.T@Ninv@derivs\n",
    "    lhs = lhs + lam*np.diag(np.diag(lhs)) # using the minimizer \n",
    "    step  = np.linalg.inv(lhs)@rhs # an array of all 5 parameters\n",
    "    pars = pars + [step[0], step[1], step[2], 0, step[3], step[4]]    \n",
    "    y_pred_newt = get_spectrum_2(pars)\n",
    "    numerator = (y_pred_newt - y)**2\n",
    "    denominator = sig**2\n",
    "    Chi_sq_newt[iter] = np.sum(numerator / denominator)\n",
    "    del_Chi = Chi_sq_newt[iter] - Chi_sq_newt[iter - 1] # Calculate the different between 2 chi's\n",
    "    if np.abs(del_Chi) < tol:\n",
    "        break \n",
    "    lam=lam*2**(del_Chi/100) # update lambda if del_Chi is not small enough and start another iteration\n"
   ]
  },
  {
   "cell_type": "code",
   "execution_count": 53,
   "metadata": {},
   "outputs": [
    {
     "data": {
      "text/plain": [
       "array([1588.23765329, 1295.44573732, 1234.41531196, 1230.86094211,\n",
       "       1229.70760772, 1229.13613918, 1228.80361097, 1228.58438631,\n",
       "       1228.42717297,    0.        ,    0.        ])"
      ]
     },
     "execution_count": 53,
     "metadata": {},
     "output_type": "execute_result"
    }
   ],
   "source": [
    "Chi_sq_newt"
   ]
  },
  {
   "cell_type": "code",
   "execution_count": 54,
   "metadata": {},
   "outputs": [],
   "source": [
    "pars_newt = pars # copy it, in case we want to trace back pars values  \n",
    "pars_newt_errs = np.sqrt(np.diag(np.linalg.inv(lhs))) # Error on the parameters just found"
   ]
  },
  {
   "cell_type": "code",
   "execution_count": 55,
   "metadata": {},
   "outputs": [
    {
     "name": "stdout",
     "output_type": "stream",
     "text": [
      "With optical depth fixed, we found\n",
      "The hubble constant: 70.75489312306807 , with an error: 1.1481774003257776\n",
      "the physical baryon density: 0.02254511160678083 , with an error: 0.00038092534675826013\n",
      "the cold dark matter density: 0.11031032001621174 , with an error: 0.0018453475955994914\n",
      "the primordial amplitude of fluctations: 2.016578161076733e-09 , with an error: 1.6059762681337477e-11\n",
      "the slope of the priomordial power law: 0.9731806262838371 , with an error: 0.008885928383017473\n"
     ]
    }
   ],
   "source": [
    "print('With optical depth fixed, we found')\n",
    "print('The hubble constant:', pars_newt[0],', with an error:', pars_newt_errs[0])\n",
    "print('the physical baryon density:', pars_newt[1],', with an error:', pars_newt_errs[1])\n",
    "print('the cold dark matter density:', pars_newt[2],', with an error:', pars_newt_errs[2])\n",
    "print('the primordial amplitude of fluctations:', pars_newt[4],', with an error:', pars_newt_errs[3])\n",
    "print('the slope of the priomordial power law:', pars_newt[5],', with an error:', pars_newt_errs[4])"
   ]
  },
  {
   "cell_type": "code",
   "execution_count": null,
   "metadata": {},
   "outputs": [],
   "source": []
  },
  {
   "cell_type": "code",
   "execution_count": 56,
   "metadata": {},
   "outputs": [
    {
     "name": "stdout",
     "output_type": "stream",
     "text": [
      "-0.11248253149983611\n",
      "It is not that much different from the previous Chi squared so my derivative scheme works\n"
     ]
    }
   ],
   "source": [
    "# I don't know how to show the plot for the derivatives so I will go on proving that you should believe\n",
    "# in my derivatives in a different way. If our dervitives are indeed valid, we should be able to freely vary the step size\n",
    "# without having any significant change to the chi square\n",
    "# For this, I am decreasing the step size by 10 to prove this point (100 to 10)\n",
    "iter = iter + 1 \n",
    "derivs = dA_1(pars, y_pred_newt, 10) # Here step size has been reduced from 100 to 10\n",
    "resid = y - y_pred_newt \n",
    "rhs = derivs.T@(Ninv@resid)\n",
    "lhs = derivs.T@Ninv@derivs\n",
    "lhs = lhs + lam*np.diag(np.diag(lhs)) # using the minimizer \n",
    "step  = np.linalg.inv(lhs)@rhs # an array of all 5 parameters\n",
    "pars = pars + [step[0], step[1], step[2], 0, step[3], step[4]]    \n",
    "y_pred_newt = get_spectrum_2(pars)\n",
    "numerator = (y_pred_newt - y)**2\n",
    "denominator = sig**2\n",
    "Chi_sq_newt[iter] = np.sum(numerator / denominator)\n",
    "del_Chi = Chi_sq_newt[iter] - Chi_sq_newt[iter - 1]\n",
    "print(del_Chi)\n",
    "print('It is not that much different from the previous Chi squared so my derivative scheme works')"
   ]
  },
  {
   "cell_type": "markdown",
   "metadata": {},
   "source": [
    "If $\\tau$ were to be varied, generally speaking we would see an increase in error as we just added another degree of freedom to the our model. However, if $\\tau$ is a dominating parameter, allowing it to float might actually reduce the errors on the other parameters as it helps the model work better. "
   ]
  },
  {
   "cell_type": "markdown",
   "metadata": {},
   "source": [
    "# Question 4"
   ]
  },
  {
   "cell_type": "code",
   "execution_count": 57,
   "metadata": {},
   "outputs": [],
   "source": [
    "# Define dA function again for when we also use Tau\n",
    "def dA_full(pars, y, x):\n",
    "    dA = np.zeros([len(pars),len(y)])\n",
    "    dummy = np.zeros(len(pars))\n",
    "    for i in range(len(pars)):\n",
    "            dummy[i]=pars[i]/x\n",
    "            dA[i,:]=(get_spectrum_2(pars + dummy) - y)/(pars[i]/x)\n",
    "            dummy[i]=0\n",
    "    return dA.transpose()"
   ]
  },
  {
   "cell_type": "code",
   "execution_count": 58,
   "metadata": {},
   "outputs": [],
   "source": [
    "def par_step(par,step):\n",
    "    param_scalings = step*par\n",
    "    return par + param_scalings*np.random.randn(len(par))\n",
    "def take_step_cov(covmat):\n",
    "    mychol = np.linalg.cholesky(covmat)\n",
    "    return np.dot(mychol,np.random.randn(covmat.shape[0]))"
   ]
  },
  {
   "cell_type": "code",
   "execution_count": 59,
   "metadata": {},
   "outputs": [],
   "source": [
    "# Now redo again with \n",
    "dA = dA_full(pars, y_pred, 100)\n",
    "lhs =dA.T@Ninv@dA\n",
    "pars_error = np.linalg.inv(lhs)\n"
   ]
  },
  {
   "cell_type": "code",
   "execution_count": 60,
   "metadata": {},
   "outputs": [],
   "source": [
    "# Building a mcmc algorithm like in class. Using chisq value of the last Newton's method\n",
    "to_do = 0 # we won't run this... It took 4 hours just to run and I have to run it 3 times to find good chain\n",
    "\n",
    "if to_do == 1:\n",
    "    chisq = Chi_sq_newt[iter] # The last evaluated chi squared from the Newton's method\n",
    "    pars = pars_newt\n",
    "\n",
    "    scale_fac = 0.5\n",
    "    nstep = 10000\n",
    "    count = 0 #keep track of the chain iteration\n",
    "    chain = np.zeros([nstep,len(pars)])\n",
    "    chisqvec = np.zeros(nstep)\n",
    "    t = time.time()\n",
    "\n",
    "\n",
    "    for i in range(nstep):\n",
    "        new_pars = pars + take_step_cov(pars_error)*scale_fac\n",
    "        if new_pars[3] > 0:\n",
    "            y_pred_cmcm = get_spectrum_2(new_pars)\n",
    "            new_chisq = np.sum((y_pred_cmcm - y)**2 / (sig**2))    \n",
    "            delta_chisq = new_chisq - chisq\n",
    "            prob = np.exp(-0.5*delta_chisq)\n",
    "            accept = np.random.rand(1)\n",
    "            if accept < prob:\n",
    "                pars = new_pars\n",
    "                chisq = new_chisq\n",
    "                count = count+1\n",
    "        chain[i,:] = pars\n",
    "        chisqvec[i] = chisq\n",
    "        np.savetxt('Q3.csv', chain, delimiter = ',')\n",
    "    np.savetxt('Q3_final.csv', chain, delimiter = ',') # Save so that I don;t need to run this again...\n",
    "    print((time.time()-t)/60,'min')\n",
    "else:\n",
    "    # It took so long to run so I ran the cell above and saved data and re-called it again\n",
    "    chain = np.loadtxt('Q3_final_good.csv',delimiter=',') #load here \n",
    "    nstep = 10000"
   ]
  },
  {
   "cell_type": "markdown",
   "metadata": {},
   "source": [
    "run time was 242 mins... I will not runt this cuz it tooks forever to run..."
   ]
  },
  {
   "cell_type": "code",
   "execution_count": 61,
   "metadata": {},
   "outputs": [],
   "source": [
    "# Calculating pars and its error\n",
    "pars_mcmc = np.mean(chain,axis=0)\n",
    "pars_error = np.std(chain,axis=0)/np.sqrt((nstep*.2)/2) "
   ]
  },
  {
   "cell_type": "code",
   "execution_count": 62,
   "metadata": {},
   "outputs": [
    {
     "name": "stdout",
     "output_type": "stream",
     "text": [
      "MCMC gave the following results:\n",
      "The  Hubble Constant is  72.7233807385854  with error: 0.11596218355699157\n",
      "The  Physical Baryon Density is  0.023131893177883573  with error: 2.424806708058767e-05\n",
      "The  Cold Dark Matter Density is  0.10803947201637938  with error: 0.00020552827519379496\n",
      "The  Optical Pathlength is  0.1306308442604483  with error: 0.00201331773990426\n",
      "The  Primordial Amplitude of Fluctations is  2.3823977699100364e-09  with error: 8.712217667659466e-12\n",
      "The  Slope of The Triomordial Power Law is  0.9921330535689258  with error: 0.0007318246599024863\n"
     ]
    }
   ],
   "source": [
    "name = ['Hubble Constant', 'Physical Baryon Density', 'Cold Dark Matter Density', 'Optical Pathlength', \n",
    "         'Primordial Amplitude of Fluctations', 'Slope of The Triomordial Power Law']\n",
    "print('MCMC gave the following results:')\n",
    "for i in range(len(name)):\n",
    "    print('The ', name[i], 'is ', pars_mcmc[i], ' with error:', pars_error[i])"
   ]
  },
  {
   "cell_type": "markdown",
   "metadata": {},
   "source": [
    "Now to show that the chain has finally converge, we will show that the last 3000 points just fluctuates around the mean of the value and the fourier transform. The data will be plotted for Hubble constant"
   ]
  },
  {
   "cell_type": "code",
   "execution_count": 63,
   "metadata": {},
   "outputs": [
    {
     "data": {
      "image/png": "[encoded data removed]",
      "text/plain": [
       "<Figure size 432x288 with 1 Axes>"
      ]
     },
     "metadata": {
      "needs_background": "light"
     },
     "output_type": "display_data"
    }
   ],
   "source": [
    "# Plot out the value of some part of the cahin\n",
    "test = 0\n",
    "noise = chain[nstep-3000:nstep, test] # to get rid of the bad part at the beginning of the chain\n",
    "plt.plot(noise, markersize = 10)\n",
    "plt.ylabel('Hubble Constant', fontsize = 14)\n",
    "plt.xlabel('Step', fontsize = 14)\n",
    "plt.title('Hubble Constant Evaluation at each step in the chain', fontsize = 14)\n",
    "plt.show()"
   ]
  },
  {
   "cell_type": "code",
   "execution_count": 64,
   "metadata": {},
   "outputs": [
    {
     "data": {
      "image/png": "[encoded data removed]",
      "text/plain": [
       "<Figure size 432x288 with 1 Axes>"
      ]
     },
     "metadata": {
      "needs_background": "light"
     },
     "output_type": "display_data"
    }
   ],
   "source": [
    "F_noise=np.fft.rfft(noise)\n",
    "plt.title('Fourier Transform of the noise', fontsize = 14)\n",
    "plt.loglog(np.abs(F_noise)) \n",
    "plt.show()"
   ]
  },
  {
   "cell_type": "markdown",
   "metadata": {},
   "source": [
    "# Question 5"
   ]
  },
  {
   "cell_type": "code",
   "execution_count": 65,
   "metadata": {},
   "outputs": [],
   "source": [
    "mu = 0.0544\n",
    "sig = 0.0073\n",
    "chain2 = np.zeros([nstep,len(pars)])\n",
    "pars = chain[0,:]\n",
    "count = 0\n",
    "\n",
    "for i in range(len(chain)):\n",
    "    new_pars = chain[i,:]\n",
    "    prob = np.exp(-(new_pars[3] - mu)**2/(2*sig**2))\n",
    "    accept = np.random.rand(1)<prob\n",
    "    if accept:\n",
    "        pars = new_pars\n",
    "        count = count+1\n",
    "    chain2[i,:] = pars"
   ]
  },
  {
   "cell_type": "code",
   "execution_count": 66,
   "metadata": {},
   "outputs": [],
   "source": [
    "pars_mcmc_2 = np.mean(chain2, axis = 0)\n",
    "pars_mcmc_error_2 = np.std(chain2, axis =0)/np.sqrt(count/2) #making an estimate that half the data points are uncorrelated"
   ]
  },
  {
   "cell_type": "code",
   "execution_count": 67,
   "metadata": {},
   "outputs": [
    {
     "name": "stdout",
     "output_type": "stream",
     "text": [
      "MCMC gave the following results:\n",
      "The  Hubble Constant is  70.67692051148555  with error: 0.1380215589441651\n",
      "The  Physical Baryon Density is  0.022610174473745668  with error: 2.4208036524001142e-05\n",
      "The  Cold Dark Matter Density is  0.11139146976042132  with error: 0.000265664267411025\n",
      "The  Optical Pathlength is  0.06895930978982989  with error: 0.0016865857935764968\n",
      "The  Primordial Amplitude of Fluctations is  2.110530117943105e-09  with error: 6.504744760042983e-12\n",
      "The  Slope of The Triomordial Power Law is  0.9743461648195253  with error: 0.0006768334337317059\n"
     ]
    }
   ],
   "source": [
    "name = ['Hubble Constant', 'Physical Baryon Density', 'Cold Dark Matter Density', 'Optical Pathlength', \n",
    "         'Primordial Amplitude of Fluctations', 'Slope of The Triomordial Power Law']\n",
    "print('MCMC gave the following results:')\n",
    "for i in range(len(name)):\n",
    "    print('The ', name[i], 'is ', pars_mcmc_2[i], ' with error:', pars_mcmc_error_2[i])"
   ]
  },
  {
   "cell_type": "markdown",
   "metadata": {},
   "source": [
    "These results appear to be lower than those of the full chain probbaly because of the difference in optical path length "
   ]
  },
  {
   "cell_type": "code",
   "execution_count": null,
   "metadata": {},
   "outputs": [],
   "source": []
  },
  {
   "cell_type": "code",
   "execution_count": null,
   "metadata": {},
   "outputs": [],
   "source": []
  }
 ],
 "metadata": {
  "kernelspec": {
   "display_name": "Python 3",
   "language": "python",
   "name": "python3"
  },
  "language_info": {
   "codemirror_mode": {
    "name": "ipython",
    "version": 3
   },
   "file_extension": ".py",
   "mimetype": "text/x-python",
   "name": "python",
   "nbconvert_exporter": "python",
   "pygments_lexer": "ipython3",
   "version": "3.7.3"
  }
 },
 "nbformat": 4,
 "nbformat_minor": 2
}
