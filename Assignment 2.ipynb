{
 "cells": [
  {
   "cell_type": "code",
   "execution_count": 147,
   "metadata": {},
   "outputs": [],
   "source": [
    "import numpy as np\n",
    "import matplotlib.pyplot as plt\n",
    "import scipy\n",
    "from scipy import interpolate \n",
    "from scipy import integrate\n",
    "\n",
    "cos = np.cos\n",
    "sin = np.sin\n",
    "pi = np.pi"
   ]
  },
  {
   "cell_type": "markdown",
   "metadata": {},
   "source": [
    "# Question 1"
   ]
  },
  {
   "cell_type": "code",
   "execution_count": 3,
   "metadata": {},
   "outputs": [],
   "source": [
    "def simple_integrate(fun,a,b,tol):\n",
    "    x=np.linspace(a,b,5);\n",
    "    dx=(b-a)/4.0;\n",
    "    #np.median(np.diff(x))\n",
    "    y=fun(x);\n",
    "    neval=len(x) #let's keep track of function evaluations\n",
    "    f1=(y[0]+4*y[2]+y[4])/6.0*(b-a);\n",
    "    f2=(y[0]+4*y[1]+2*y[2]+4*y[3]+y[4])/12.0*(b-a);\n",
    "    myerr=np.abs(f2-f1)\n",
    "    if (myerr<tol):\n",
    "        #return (f2)/1.0,myerr,neval\n",
    "        return (16.0*f2-f1)/15.0,myerr,neval;\n",
    "    else:\n",
    "        mid=0.5*(b+a);\n",
    "        f_left,err_left,neval_left=simple_integrate(fun,a,mid,tol/2.0);\n",
    "        f_right,err_right,neval_right=simple_integrate(fun,mid,b,tol/2.0);\n",
    "        neval=neval+neval_left+neval_right;\n",
    "        f=f_left+f_right;\n",
    "        err=err_left+err_right;\n",
    "        return f,err,neval;"
   ]
  },
  {
   "cell_type": "code",
   "execution_count": 113,
   "metadata": {},
   "outputs": [],
   "source": [
    "# my improved recursive integartor \n",
    "def improve_integrate(func,a,b,tol):\n",
    "    x = np.linspace(a, b, 5)  \n",
    "    \n",
    "    # These guys wont change throughout the recursion so \n",
    "    y_a = func(x[0])\n",
    "    y_b = func(x[4])\n",
    "    y_mid = func(x[2])\n",
    "    \n",
    "    # Number of evaluation (neval sounds so weird...)\n",
    "    count = 3\n",
    "    \n",
    "    # Recursion part of the integration\n",
    "    ansF, errF, countF = recursion(func, a, b, y_a, y_b, y_mid, count, tol) #calling the recursive function\n",
    "    return ansF, errF, countF\n",
    "    \n",
    "    \n",
    "def recursion(func, a, b, y_a, y_b, y_mid, count, tol):\n",
    "    #In case of a new recursion cycle, x will be redistributed and the middle points will need to be recalculated\n",
    "    x = np.linspace(a, b, 5)\n",
    "    ##Now when there is a recursion, we need to update 3 values (y_mid, y_midL, y_midR)\n",
    "    y_mid = func(x[2])\n",
    "    y_midL = func(x[1])\n",
    "    y_midR = func(x[3])\n",
    "    count = 3\n",
    "        \n",
    "    ## Now we evaluate f1 and f2:\n",
    "    f1 = (y_a + 4*y_mid + y_b)/6.0*(b-a)\n",
    "    f2 = (y_a + 4*y_midL + 2*y_mid + 4*y_midR + y_b)/12.0*(b-a)\n",
    "    err = np.abs(f1 - f2)\n",
    "    \n",
    "    if err>tol:\n",
    "        mid = (a + b)/2\n",
    "        ansL, errL, countL = recursion(func, a, mid, y_a, y_mid, y_midL, count, tol/2) \n",
    "        ansR, errR, countR = recursion(func, mid, b, y_mid, y_b, y_midR, count, tol/2)\n",
    "        count = count + countL + countR\n",
    "        err = errL + errR  \n",
    "        ans = ansL + ansR\n",
    "        return ans, err, count\n",
    "    else:\n",
    "        ans = (16.0*f2-f1)/15.0\n",
    "        return ans, err, count"
   ]
  },
  {
   "cell_type": "code",
   "execution_count": 219,
   "metadata": {},
   "outputs": [],
   "source": [
    "def func1(x):\n",
    "    return np.cos(x)"
   ]
  },
  {
   "cell_type": "code",
   "execution_count": 220,
   "metadata": {},
   "outputs": [],
   "source": [
    "f_better, err_better, neval_better = improve_integrate(func1, -1, 2, 1e-3)\n",
    "f_simple, err_simple, neval_simple = simple_integrate(func1, -1, 2, 1e-3)"
   ]
  },
  {
   "cell_type": "code",
   "execution_count": 221,
   "metadata": {},
   "outputs": [
    {
     "data": {
      "text/plain": [
       "21"
      ]
     },
     "execution_count": 221,
     "metadata": {},
     "output_type": "execute_result"
    }
   ],
   "source": [
    "neval_better"
   ]
  },
  {
   "cell_type": "code",
   "execution_count": 222,
   "metadata": {},
   "outputs": [
    {
     "data": {
      "text/plain": [
       "35"
      ]
     },
     "execution_count": 222,
     "metadata": {},
     "output_type": "execute_result"
    }
   ],
   "source": [
    "neval_simple"
   ]
  },
  {
   "cell_type": "markdown",
   "metadata": {},
   "source": [
    "# Question 2"
   ]
  },
  {
   "cell_type": "code",
   "execution_count": 223,
   "metadata": {},
   "outputs": [],
   "source": [
    "mat = np.zeros([5,5])\n",
    "x = np.linspace(-1, 1, 5)"
   ]
  },
  {
   "cell_type": "code",
   "execution_count": 224,
   "metadata": {},
   "outputs": [
    {
     "data": {
      "text/plain": [
       "array([[ 1.  , -1.  ,  1.  ],\n",
       "       [ 1.  , -0.5 ,  0.25],\n",
       "       [ 1.  ,  0.  ,  0.  ],\n",
       "       [ 1.  ,  0.5 ,  0.25],\n",
       "       [ 1.  ,  1.  ,  1.  ]])"
      ]
     },
     "execution_count": 224,
     "metadata": {},
     "output_type": "execute_result"
    }
   ],
   "source": [
    "mat[:,0] = 1\n",
    "mat[:,1] = x\n",
    "mat[:,2] = x**2\n",
    "mat[:,:3]"
   ]
  },
  {
   "cell_type": "code",
   "execution_count": 225,
   "metadata": {},
   "outputs": [
    {
     "name": "stdout",
     "output_type": "stream",
     "text": [
      "0\n",
      "1\n",
      "2\n",
      "3\n",
      "4\n"
     ]
    },
    {
     "data": {
      "image/png": "[encoded data removed]",
      "text/plain": [
       "<Figure size 432x288 with 1 Axes>"
      ]
     },
     "metadata": {
      "needs_background": "light"
     },
     "output_type": "display_data"
    }
   ],
   "source": [
    "plt.plot(mat[:,:3])\n",
    "for i in range(5):\n",
    "    print(i)"
   ]
  },
  {
   "cell_type": "markdown",
   "metadata": {},
   "source": [
    "# Question 3"
   ]
  },
  {
   "cell_type": "code",
   "execution_count": 417,
   "metadata": {},
   "outputs": [],
   "source": [
    "def decay(x, y):\n",
    "    half_life = [1.409e17, 2.082e6, 402, 7.7421e12, 2.377e12, 5.046e10, \n",
    "             0.33e6, 186, 1608, 1194, 0.1643, 0.703e9, 1.5815e11, 11.95e6] # in second\n",
    "    num = len(half_life) + 1\n",
    "    dydx = np.zeros(num)\n",
    "    \n",
    "    for i in range(num):\n",
    "        if i == 0:\n",
    "            dydx[0] = -y[0]/half_life[0]\n",
    "        elif i == num-1:\n",
    "            dydx[i] = y[i-1]/half_life[i-1]\n",
    "        else:\n",
    "            dydx[i] = -y[i]/half_life[i] + y[i-1]/half_life[i-1]\n",
    "    return dydx"
   ]
  },
  {
   "cell_type": "code",
   "execution_count": 437,
   "metadata": {},
   "outputs": [],
   "source": [
    "# Value of y\n",
    "y0 = np.asarray(np.zeros(15))\n",
    "y0[0] = 1"
   ]
  },
  {
   "cell_type": "code",
   "execution_count": 438,
   "metadata": {},
   "outputs": [],
   "source": [
    "t0 = 0\n",
    "t1 = 100\n",
    "ans = integrate.solve_ivp(decay, [t0, t1], y0, Method = \"Randau\")"
   ]
  },
  {
   "cell_type": "code",
   "execution_count": 439,
   "metadata": {},
   "outputs": [
    {
     "data": {
      "text/plain": [
       "array([1., 1., 1., 1., 1., 1., 1., 1.])"
      ]
     },
     "execution_count": 439,
     "metadata": {},
     "output_type": "execute_result"
    }
   ],
   "source": [
    "ans.y[0,:] # This is the time evolution of U238"
   ]
  },
  {
   "cell_type": "code",
   "execution_count": 440,
   "metadata": {},
   "outputs": [
    {
     "data": {
      "text/plain": [
       "array([0.00000000e+00, 4.56364852e-57, 6.68163447e-53, 6.92790186e-49,\n",
       "       6.95255506e-45, 6.95159942e-41, 6.91743118e-37, 4.34669067e-33])"
      ]
     },
     "execution_count": 440,
     "metadata": {},
     "output_type": "execute_result"
    }
   ],
   "source": [
    "ans.y[4,:] # This is the time evolution of Th230"
   ]
  },
  {
   "cell_type": "code",
   "execution_count": 441,
   "metadata": {},
   "outputs": [
    {
     "data": {
      "text/plain": [
       "array([0.00000000e+000, 0.00000000e+000, 0.00000000e+000, 5.95690552e-147,\n",
       "       7.33604091e-133, 7.34270870e-119, 6.13883503e-105, 3.94515116e-091])"
      ]
     },
     "execution_count": 441,
     "metadata": {},
     "output_type": "execute_result"
    }
   ],
   "source": [
    "ans.y[-1,:] # This is the time evolution of Pb208"
   ]
  },
  {
   "cell_type": "code",
   "execution_count": 442,
   "metadata": {},
   "outputs": [
    {
     "data": {
      "text/plain": [
       "array([ 1.00000000e+00,  7.09706164e-16,  1.57144331e-20,  1.32955931e-21,\n",
       "        4.34669067e-33,  3.66846969e-44,  1.36494597e-53,  3.36978955e-58,\n",
       "        9.11995612e-60,  1.99722530e-62,  8.83514636e-62, -8.83062734e-62,\n",
       "        2.07790889e-71, -1.98620835e-83,  3.94515116e-91])"
      ]
     },
     "execution_count": 442,
     "metadata": {},
     "output_type": "execute_result"
    }
   ],
   "source": [
    "ans.y[:,-1] # This is the decay chain at the final time step"
   ]
  },
  {
   "cell_type": "code",
   "execution_count": null,
   "metadata": {},
   "outputs": [],
   "source": []
  }
 ],
 "metadata": {
  "kernelspec": {
   "display_name": "Python 3",
   "language": "python",
   "name": "python3"
  },
  "language_info": {
   "codemirror_mode": {
    "name": "ipython",
    "version": 3
   },
   "file_extension": ".py",
   "mimetype": "text/x-python",
   "name": "python",
   "nbconvert_exporter": "python",
   "pygments_lexer": "ipython3",
   "version": "3.8.3"
  }
 },
 "nbformat": 4,
 "nbformat_minor": 4
}
