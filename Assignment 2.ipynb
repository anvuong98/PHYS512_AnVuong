{
 "cells": [
  {
   "cell_type": "code",
   "execution_count": 819,
   "metadata": {},
   "outputs": [],
   "source": [
    "import numpy as np\n",
    "import matplotlib.pyplot as plt\n",
    "import scipy\n",
    "from scipy import interpolate \n",
    "from scipy import integrate\n",
    "\n",
    "cos = np.cos\n",
    "sin = np.sin\n",
    "pi = np.pi"
   ]
  },
  {
   "cell_type": "markdown",
   "metadata": {},
   "source": [
    "# Question 1"
   ]
  },
  {
   "cell_type": "code",
   "execution_count": 820,
   "metadata": {},
   "outputs": [],
   "source": [
    "def simple_integrate(fun,a,b,tol):\n",
    "    x=np.linspace(a,b,5);\n",
    "    dx=(b-a)/4.0;\n",
    "    #np.median(np.diff(x))\n",
    "    y=fun(x);\n",
    "    neval=len(x) #let's keep track of function evaluations\n",
    "    f1=(y[0]+4*y[2]+y[4])/6.0*(b-a);\n",
    "    f2=(y[0]+4*y[1]+2*y[2]+4*y[3]+y[4])/12.0*(b-a);\n",
    "    myerr=np.abs(f2-f1)\n",
    "    if (myerr<tol):\n",
    "        #return (f2)/1.0,myerr,neval\n",
    "        return (16.0*f2-f1)/15.0,myerr,neval;\n",
    "    else:\n",
    "        mid=0.5*(b+a);\n",
    "        f_left,err_left,neval_left=simple_integrate(fun,a,mid,tol/2.0);\n",
    "        f_right,err_right,neval_right=simple_integrate(fun,mid,b,tol/2.0);\n",
    "        neval=neval+neval_left+neval_right;\n",
    "        f=f_left+f_right;\n",
    "        err=err_left+err_right;\n",
    "        return f,err,neval;"
   ]
  },
  {
   "cell_type": "code",
   "execution_count": 821,
   "metadata": {},
   "outputs": [],
   "source": [
    "# my improved recursive integartor \n",
    "def improve_integrate(func,a,b,tol):\n",
    "    x = np.linspace(a, b, 5)  \n",
    "    \n",
    "    # These guys wont change throughout the recursion so \n",
    "    y_a = func(x[0])\n",
    "    y_b = func(x[4])\n",
    "    y_mid = func(x[2])\n",
    "    \n",
    "    # Number of evaluation (neval sounds so weird...)\n",
    "    count = 3\n",
    "    \n",
    "    # Recursion part of the integration\n",
    "    ansF, errF, countF = recursion(func, a, b, y_a, y_b, y_mid, count, tol) #calling the recursive function\n",
    "    return ansF, errF, countF\n",
    "    \n",
    "    \n",
    "def recursion(func, a, b, y_a, y_b, y_mid, count, tol):\n",
    "    #In case of a new recursion cycle, x will be redistributed and the middle points will need to be recalculated\n",
    "    x = np.linspace(a, b, 5)\n",
    "    ##Now when there is a recursion, we need to update 3 values (y_mid, y_midL, y_midR)\n",
    "    y_mid = func(x[2])\n",
    "    y_midL = func(x[1])\n",
    "    y_midR = func(x[3])\n",
    "    count = 3\n",
    "        \n",
    "    ## Now we evaluate f1 and f2:\n",
    "    f1 = (y_a + 4*y_mid + y_b)/6.0*(b-a)\n",
    "    f2 = (y_a + 4*y_midL + 2*y_mid + 4*y_midR + y_b)/12.0*(b-a)\n",
    "    err = np.abs(f1 - f2)\n",
    "    \n",
    "    if err>tol:\n",
    "        mid = (a + b)/2\n",
    "        ansL, errL, countL = recursion(func, a, mid, y_a, y_mid, y_midL, count, tol/2) \n",
    "        ansR, errR, countR = recursion(func, mid, b, y_mid, y_b, y_midR, count, tol/2)\n",
    "        count = count + countL + countR\n",
    "        err = errL + errR  \n",
    "        ans = ansL + ansR\n",
    "        return ans, err, count\n",
    "    else:\n",
    "        ans = (16.0*f2-f1)/15.0\n",
    "        return ans, err, count"
   ]
  },
  {
   "cell_type": "code",
   "execution_count": 822,
   "metadata": {},
   "outputs": [],
   "source": [
    "def func1(x):\n",
    "    return np.cos(x)"
   ]
  },
  {
   "cell_type": "code",
   "execution_count": 823,
   "metadata": {},
   "outputs": [],
   "source": [
    "f_better, err_better, neval_better = improve_integrate(func1, -1, 2, 1e-3)\n",
    "f_simple, err_simple, neval_simple = simple_integrate(func1, -1, 2, 1e-3)"
   ]
  },
  {
   "cell_type": "code",
   "execution_count": 824,
   "metadata": {},
   "outputs": [
    {
     "name": "stdout",
     "output_type": "stream",
     "text": [
      "Number of function evaluation for the better routine is:  21\n"
     ]
    }
   ],
   "source": [
    "print('Number of function evaluation for the better routine is: ',neval_better)"
   ]
  },
  {
   "cell_type": "code",
   "execution_count": 825,
   "metadata": {},
   "outputs": [
    {
     "name": "stdout",
     "output_type": "stream",
     "text": [
      "Number of function evaluation for the routine in class is:  35\n"
     ]
    }
   ],
   "source": [
    "print('Number of function evaluation for the routine in class is: ',neval_simple)"
   ]
  },
  {
   "cell_type": "markdown",
   "metadata": {},
   "source": [
    "# Question 2"
   ]
  },
  {
   "cell_type": "markdown",
   "metadata": {},
   "source": [
    "We need to figure out how to convert the range from 0.5 to 1 to the range in the basis of the Chebyshev functions. We will do that by assuming a linear transformation relation: x_cheb = a*x_real + b. We know that the Chebysev has upper bound and lower bound 1 and -1, respectively. With that information, combining with the given range of we have for the real value of x, we can find a transformation that map from x_real to x_cheb"
   ]
  },
  {
   "cell_type": "code",
   "execution_count": 826,
   "metadata": {},
   "outputs": [],
   "source": [
    "def conversion(x):\n",
    "    # x_cheb_max = a*x_real_max + b\n",
    "    # x_cheb_min = a*x_real_min + b\n",
    "    x_cheb_max = 1\n",
    "    x_cheb_min = -1\n",
    "    a = (x_cheb_max - x_cheb_min)/(max(x) - min(x))\n",
    "    b = x_cheb_max - a*max(x)\n",
    "    x_cheb = a*x + b\n",
    "    return x_cheb"
   ]
  },
  {
   "cell_type": "code",
   "execution_count": 827,
   "metadata": {},
   "outputs": [],
   "source": [
    "# This is from cheb_expand.py, with modified input x_real to x_cheb\n",
    "def cheb_mat_uniform(x_real,order):\n",
    "    x = conversion(x_real)\n",
    "    nx = len(x)\n",
    "    mat = np.zeros([nx, order + 1])\n",
    "    mat[:,0] = 1.0\n",
    "    if order > 0:\n",
    "        mat[:,1]=x\n",
    "    if order > 1:\n",
    "        for i in range(1,order):\n",
    "            mat[:,i+1] = 2 * x * mat[:,i] - mat[:,i-1]\n",
    "    return mat"
   ]
  },
  {
   "cell_type": "markdown",
   "metadata": {},
   "source": [
    "We are going for a linear least squared fit. We will use SVD to complete this like in class"
   ]
  },
  {
   "cell_type": "code",
   "execution_count": 828,
   "metadata": {},
   "outputs": [],
   "source": [
    "# Stole this from class\n",
    "def fitting(x, A):\n",
    "    U, S, V = np.linalg.svd(A,0)\n",
    "    S = np.diag(1/S)\n",
    "    fitp = V.T@S@U.T@x\n",
    "    return fitp"
   ]
  },
  {
   "cell_type": "code",
   "execution_count": 829,
   "metadata": {},
   "outputs": [],
   "source": [
    "# Now do the Chebyshev\n",
    "x = np.linspace(0.5, 1, 101)\n",
    "y = np.log2(x)\n",
    "order = 50\n",
    "A = cheb_mat_uniform(x, order)\n",
    "param = fitting(y, A) # fitting parameter\n",
    "pred = np.dot(A, param)"
   ]
  },
  {
   "cell_type": "code",
   "execution_count": 830,
   "metadata": {},
   "outputs": [],
   "source": [
    "# Truncated Chebyshev \n",
    "n_trunc = 1\n",
    "y_cheb = A[:,:n_trunc]@param[:n_trunc] # Calculate our prediction using this truncated Chebyshev\n",
    "while abs(max(y_cheb - y)) > 1e-6 and n_trunc < order:\n",
    "    n_trunc = n_trunc + 1\n",
    "    y_cheb = A[:,:n_trunc]@param[:n_trunc]"
   ]
  },
  {
   "cell_type": "code",
   "execution_count": 844,
   "metadata": {},
   "outputs": [
    {
     "name": "stdout",
     "output_type": "stream",
     "text": [
      "Truncation n_trunc =  8  will give a max error =  3.1969811686849425e-07  which is smaller than 1e-6\n",
      "We can keep up to  7 th term for this error to be smaller than 1e-6\n"
     ]
    }
   ],
   "source": [
    "print('Truncation n_trunc = ', n_trunc, ' will give a max error = ', abs(max(y_cheb - y)),\n",
    "      ' which is smaller than 1e-6')\n",
    "print('We can keep up to ', n_trunc - 1, 'th term for this error to be smaller than 1e-6')"
   ]
  },
  {
   "cell_type": "code",
   "execution_count": 845,
   "metadata": {},
   "outputs": [],
   "source": [
    "# Poly Fit\n",
    "coeffs = np.polyfit(x, y, n_trunc - 1)\n",
    "coeffs = coeffs[::-1] # Have to reverse it because the coefficients are going from high to low order\n",
    "y_poly = 0\n",
    "for i in range(len(coeffs)):\n",
    "    y_poly = y_poly + coeffs[i]*x**i"
   ]
  },
  {
   "cell_type": "code",
   "execution_count": 846,
   "metadata": {},
   "outputs": [
    {
     "data": {
      "image/png": "[encoded data removed]",
      "text/plain": [
       "<Figure size 432x288 with 1 Axes>"
      ]
     },
     "metadata": {
      "needs_background": "light"
     },
     "output_type": "display_data"
    }
   ],
   "source": [
    "# Comparing Poly Fit and Truncated Chebyshev\n",
    "err_poly = y_poly - y\n",
    "err_cheb = y_cheb - y\n",
    "plt.plot(x, err_poly, '-.', label = 'Poly Fit order 7', linewidth = 3)\n",
    "plt.plot(x, err_cheb, label = 'Chebyshev Fir order 7', linewidth = 3)\n",
    "plt.legend()\n",
    "plt.title('Residual plot of Poly Fit and Chebyshev Fit')\n",
    "plt.xlabel('x', fontsize = 14)\n",
    "plt.ylabel('Residual', fontsize = 14)\n",
    "plt.show()"
   ]
  },
  {
   "cell_type": "code",
   "execution_count": 834,
   "metadata": {},
   "outputs": [
    {
     "name": "stdout",
     "output_type": "stream",
     "text": [
      "RMS for Poly Fit is:  1.798906951595481e-07\n",
      "RMS for Chebyshev Fit is:  1.9377247223753383e-07\n",
      "Max error for Poly Fit is:  6.023577818758952e-07\n",
      "Max error for Chebyshev Fit is:  3.1969811686849425e-07\n"
     ]
    }
   ],
   "source": [
    "std_poly = np.std(err_poly)\n",
    "std_cheb = np.std(err_cheb)\n",
    "max_err_poly = max(abs(err_poly))\n",
    "max_err_cheb = max(abs(err_cheb))\n",
    "print('RMS for Poly Fit is: ', std_poly)\n",
    "print('RMS for Chebyshev Fit is: ', std_cheb)\n",
    "print('Max error for Poly Fit is: ', max_err_poly)\n",
    "print('Max error for Chebyshev Fit is: ', max_err_cheb)"
   ]
  },
  {
   "cell_type": "markdown",
   "metadata": {},
   "source": [
    "Max error for Poly is higher than that of Chebyshev but it's the opposite with RMS"
   ]
  },
  {
   "cell_type": "markdown",
   "metadata": {},
   "source": [
    "# Question 3"
   ]
  },
  {
   "cell_type": "code",
   "execution_count": 847,
   "metadata": {},
   "outputs": [],
   "source": [
    "# Define a function for the chain decay\n",
    "def decay(x, y):\n",
    "    half_life = [1.409e17, 2.082e6, 402, 7.7421e12, 2.377e12, 5.046e10, \n",
    "             0.33e6, 186, 1608, 1194, 0.1643, 0.703e9, 1.5815e11, 11.95e6] # in second\n",
    "    num = len(half_life) + 1\n",
    "    dydx = np.zeros(num)\n",
    "    \n",
    "    for i in range(num):\n",
    "        if i == 0:\n",
    "            dydx[0] = -y[0]/half_life[0]\n",
    "        elif i == num-1:\n",
    "            dydx[i] = y[i-1]/half_life[i-1]\n",
    "        else:\n",
    "            dydx[i] = -y[i]/half_life[i] + y[i-1]/half_life[i-1]\n",
    "    return dydx"
   ]
  },
  {
   "cell_type": "code",
   "execution_count": 836,
   "metadata": {},
   "outputs": [],
   "source": [
    "# Value of y\n",
    "y0 = np.asarray(np.zeros(15))\n",
    "y0[0] = 1"
   ]
  },
  {
   "cell_type": "markdown",
   "metadata": {},
   "source": [
    "Part a"
   ]
  },
  {
   "cell_type": "code",
   "execution_count": 837,
   "metadata": {},
   "outputs": [],
   "source": [
    "## To cover the half life of U238\n",
    "t0 = 0\n",
    "t1 = 1e25\n",
    "ansA = integrate.solve_ivp(decay, [t0, t1], y0, method = \"Radau\")"
   ]
  },
  {
   "cell_type": "code",
   "execution_count": 838,
   "metadata": {},
   "outputs": [],
   "source": [
    "u238 = ansA.y[0,:] # This is the time evolution of U238\n",
    "pb208 = ansA.y[-1,:] # This is the time evolution of Pb208"
   ]
  },
  {
   "cell_type": "code",
   "execution_count": 839,
   "metadata": {
    "scrolled": true
   },
   "outputs": [
    {
     "data": {
      "image/png": "[encoded data removed]",
      "text/plain": [
       "<Figure size 432x288 with 1 Axes>"
      ]
     },
     "metadata": {
      "needs_background": "light"
     },
     "output_type": "display_data"
    }
   ],
   "source": [
    "plt.clf()\n",
    "plt.plot(ansA.t[1:], u238[1:]/pb208[1:], '--.', markersize = 10)\n",
    "plt.xscale(\"log\")\n",
    "plt.yscale(\"log\")\n",
    "plt.xlabel(\"Time [s]\", fontsize = 14)\n",
    "plt.ylabel(\"U238 / Pb208\", fontsize = 14)\n",
    "plt.title(\"Ratio of U238 and Pb208 in log scale\", fontsize = 14)\n",
    "plt.show() # This does agree with analytical solution"
   ]
  },
  {
   "cell_type": "markdown",
   "metadata": {},
   "source": [
    "Part b"
   ]
  },
  {
   "cell_type": "code",
   "execution_count": 840,
   "metadata": {},
   "outputs": [],
   "source": [
    "## To cover the half life of U238\n",
    "t0 = 0\n",
    "t1 = 1e25\n",
    "ansB = integrate.solve_ivp(decay, [t0, t1], y0, method = \"Radau\")"
   ]
  },
  {
   "cell_type": "code",
   "execution_count": 841,
   "metadata": {},
   "outputs": [],
   "source": [
    "u234 = ansB.y[3,:] # This is the time evolution of U234\n",
    "th230 = ansB.y[4,:] # This is the time evolution of Th230"
   ]
  },
  {
   "cell_type": "code",
   "execution_count": 842,
   "metadata": {},
   "outputs": [
    {
     "data": {
      "image/png": "[encoded data removed]",
      "text/plain": [
       "<Figure size 432x288 with 1 Axes>"
      ]
     },
     "metadata": {
      "needs_background": "light"
     },
     "output_type": "display_data"
    }
   ],
   "source": [
    "plt.clf()\n",
    "plt.plot(ansB.t[1:], th230[1:]/u234[1:], '--.', markersize = 10)\n",
    "plt.xscale(\"log\")\n",
    "plt.yscale(\"log\")\n",
    "plt.xlabel(\"Time [s]\", fontsize = 14)\n",
    "plt.ylabel(\"Th230 / U234\", fontsize = 14)\n",
    "plt.title(\"Ratio of Th230 and U234 in log scale\", fontsize = 14)\n",
    "plt.show()"
   ]
  }
 ],
 "metadata": {
  "kernelspec": {
   "display_name": "Python 3",
   "language": "python",
   "name": "python3"
  },
  "language_info": {
   "codemirror_mode": {
    "name": "ipython",
    "version": 3
   },
   "file_extension": ".py",
   "mimetype": "text/x-python",
   "name": "python",
   "nbconvert_exporter": "python",
   "pygments_lexer": "ipython3",
   "version": "3.8.3"
  }
 },
 "nbformat": 4,
 "nbformat_minor": 4
}
